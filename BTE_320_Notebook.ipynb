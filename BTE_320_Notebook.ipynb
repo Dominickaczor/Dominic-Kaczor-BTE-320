{
  "nbformat": 4,
  "nbformat_minor": 0,
  "metadata": {
    "colab": {
      "provenance": [],
      "authorship_tag": "ABX9TyNOGS5E2sOfyNCAkvsdL6xQ",
      "include_colab_link": true
    },
    "kernelspec": {
      "name": "python3",
      "display_name": "Python 3"
    },
    "language_info": {
      "name": "python"
    }
  },
  "cells": [
    {
      "cell_type": "markdown",
      "metadata": {
        "id": "view-in-github",
        "colab_type": "text"
      },
      "source": [
        "<a href=\"https://colab.research.google.com/github/Dominickaczor/Dominic-Kaczor-BTE-320/blob/main/BTE_320_Notebook.ipynb\" target=\"_parent\"><img src=\"https://colab.research.google.com/assets/colab-badge.svg\" alt=\"Open In Colab\"/></a>"
      ]
    },
    {
      "cell_type": "code",
      "execution_count": null,
      "metadata": {
        "id": "Udu3jX7MmeDH"
      },
      "outputs": [],
      "source": []
    },
    {
      "cell_type": "markdown",
      "source": [
        "# New Section"
      ],
      "metadata": {
        "id": "krZWCqTgqBph"
      }
    },
    {
      "cell_type": "code",
      "source": [
        "# In class assignment 09/08/2025\n",
        "\n",
        "demand = int(input(\"Enter demand Units/Year: \"))\n",
        "reorder = float(input(\"enter reorder cost ($/order): \"))\n",
        "holding = float(input(\"enter holding cost ($/unit/year): \"))\n",
        "\n",
        "# Process\n",
        "eoq = (2 * demand * reorder / holding) ** 0.5\n",
        "\n",
        "# Output\n",
        "print(f\"EOQ: {eoq} units\")"
      ],
      "metadata": {
        "colab": {
          "base_uri": "https://localhost:8080/"
        },
        "id": "qcuZ8mw5moqS",
        "outputId": "ecec4b7e-c64a-4921-d900-5b6ad86f8355"
      },
      "execution_count": null,
      "outputs": [
        {
          "output_type": "stream",
          "name": "stdout",
          "text": [
            "Enter demand Units/Year: 1000\n",
            "enter reorder cost ($/order): 50\n",
            "enter holding cost ($/unit/year): 10\n",
            "EOQ: 100.0 units\n"
          ]
        }
      ]
    },
    {
      "cell_type": "markdown",
      "source": [
        "# New Section"
      ],
      "metadata": {
        "id": "2zz3ovHvmjdB"
      }
    },
    {
      "cell_type": "code",
      "source": [
        "n1 = float(input(\"Enter number 1: \"))\n",
        "n2 = float(input(\"Enter number 2: \"))\n",
        "op = input('Enter operator (+, -, *, /, //, **, %): ')\n",
        "\n",
        "if op == \"+\":\n",
        "  res = n1 + n2\n",
        "elif op == \"-\":\n",
        "  res = n1 - n2\n",
        "elif op == \"*\":\n",
        "  res = n1 * n2\n",
        "elif op == \"/\":\n",
        "  res = n1 / n2\n",
        "elif op == \"//\":\n",
        "  res = n1 // n2\n",
        "elif op == \"**\":\n",
        "  res = n1 ** n2\n",
        "elif op == \"%\":\n",
        "  res = n1 % n2\n",
        "else:\n",
        "  res = None\n",
        "  print(\"Invalid operator\")\n",
        "\n",
        "print(f\"result = {res}\")"
      ],
      "metadata": {
        "colab": {
          "base_uri": "https://localhost:8080/"
        },
        "id": "Twj6EV38qFuH",
        "outputId": "7d910dfb-c634-417f-b33e-fb8cde1914af"
      },
      "execution_count": null,
      "outputs": [
        {
          "output_type": "stream",
          "name": "stdout",
          "text": [
            "Enter number 1: 2\n",
            "Enter number 2: 3\n",
            "Enter operator (+, -, *, /, //, **, %): *\n",
            "result = 6.0\n"
          ]
        }
      ]
    },
    {
      "cell_type": "markdown",
      "source": [
        "# New Section"
      ],
      "metadata": {
        "id": "4K7KUgTytVPj"
      }
    },
    {
      "cell_type": "markdown",
      "source": [
        "#9/22"
      ],
      "metadata": {
        "id": "zm85r-cMtXmd"
      }
    },
    {
      "cell_type": "code",
      "source": [
        "for ad in range (0, 201, 25):\n",
        "  revenue = (20 + 2 * ad ** 0.5) * 10\n",
        "  costs = 200 + ad\n",
        "  profit = revenue - costs\n",
        "  print(f\"{ad},\\t {round(profit, 1)}\")"
      ],
      "metadata": {
        "colab": {
          "base_uri": "https://localhost:8080/"
        },
        "id": "3GztRB1stc6O",
        "outputId": "47f4d685-68cb-4d67-ee5a-07525a2b6af8"
      },
      "execution_count": 3,
      "outputs": [
        {
          "output_type": "stream",
          "name": "stdout",
          "text": [
            "0,\t 0.0\n",
            "25,\t 75.0\n",
            "50,\t 91.4\n",
            "75,\t 98.2\n",
            "100,\t 100.0\n",
            "125,\t 98.6\n",
            "150,\t 94.9\n",
            "175,\t 89.6\n",
            "200,\t 82.8\n"
          ]
        }
      ]
    }
  ]
}